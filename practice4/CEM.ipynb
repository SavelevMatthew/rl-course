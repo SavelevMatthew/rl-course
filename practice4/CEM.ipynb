{
  "cells": [
    {
      "cell_type": "markdown",
      "metadata": {
        "id": "-0PCC6aITe64"
      },
      "source": [
        "# Cross-Entropy Method"
      ]
    },
    {
      "cell_type": "markdown",
      "metadata": {
        "id": "AD1CB06dTe66"
      },
      "source": [
        "### 1. Импорт библиотек"
      ]
    },
    {
      "cell_type": "code",
      "execution_count": 2,
      "metadata": {
        "id": "CeYD3_x8Te67"
      },
      "outputs": [],
      "source": [
        "import gym\n",
        "import math\n",
        "import numpy as np\n",
        "from collections import deque\n",
        "import matplotlib.pyplot as plt\n",
        "%matplotlib inline\n",
        "\n",
        "import torch\n",
        "import torch.nn as nn\n",
        "import torch.nn.functional as F\n",
        "from torch.autograd import Variable"
      ]
    },
    {
      "cell_type": "markdown",
      "metadata": {
        "id": "bSdnFU9ITe68"
      },
      "source": [
        "### 2. Агент"
      ]
    },
    {
      "cell_type": "code",
      "source": [
        "class Agent(nn.Module):\n",
        "    def __init__(self, env, h_size=32):\n",
        "        super(Agent, self).__init__()\n",
        "        self.env = env\n",
        "        # state, hidden layer, action sizes\n",
        "        self.s_size = env.observation_space.shape[0]\n",
        "        self.h_size = h_size\n",
        "        self.a_size = env.action_space.shape[0]\n",
        "        # define layers\n",
        "        self.fc1 = nn.Linear(self.s_size, self.h_size)\n",
        "        self.fc2 = nn.Linear(self.h_size, self.a_size)\n",
        "        \n",
        "    def set_weights(self, weights):\n",
        "        s_size = self.s_size\n",
        "        h_size = self.h_size\n",
        "        a_size = self.a_size\n",
        "        # separate the weights for each layer\n",
        "        fc1_end = (s_size*h_size)+h_size\n",
        "        fc1_W = torch.from_numpy(weights[:s_size*h_size].reshape(s_size, h_size))\n",
        "        fc1_b = torch.from_numpy(weights[s_size*h_size:fc1_end])\n",
        "        fc2_W = torch.from_numpy(weights[fc1_end:fc1_end+(h_size*a_size)].reshape(h_size, a_size))\n",
        "        fc2_b = torch.from_numpy(weights[fc1_end+(h_size*a_size):])\n",
        "        # set the weights for each layer\n",
        "        self.fc1.weight.data.copy_(fc1_W.view_as(self.fc1.weight.data))\n",
        "        self.fc1.bias.data.copy_(fc1_b.view_as(self.fc1.bias.data))\n",
        "        self.fc2.weight.data.copy_(fc2_W.view_as(self.fc2.weight.data))\n",
        "        self.fc2.bias.data.copy_(fc2_b.view_as(self.fc2.bias.data))\n",
        "    \n",
        "    def get_weights_dim(self):\n",
        "        return (self.s_size+1)*self.h_size + (self.h_size+1)*self.a_size\n",
        "        \n",
        "    def forward(self, x):\n",
        "        x = F.relu(self.fc1(x))\n",
        "        x = F.tanh(self.fc2(x))\n",
        "        return x.cpu().data\n",
        "        \n",
        "    def evaluate(self, weights, gamma=1.0, max_t=5000):\n",
        "        self.set_weights(weights)\n",
        "        episode_return = 0.0\n",
        "        state = self.env.reset()\n",
        "        for t in range(max_t):\n",
        "            state = torch.from_numpy(state).float().to(device)\n",
        "            action = self.forward(state)\n",
        "            state, reward, done, _ = self.env.step(action)\n",
        "            episode_return += reward * math.pow(gamma, t)\n",
        "            if done:\n",
        "                break\n",
        "        return episode_return"
      ],
      "metadata": {
        "id": "TB76VyRMwMLY"
      },
      "execution_count": 3,
      "outputs": []
    },
    {
      "cell_type": "markdown",
      "source": [
        "### 3. Инициализация среды"
      ],
      "metadata": {
        "id": "PPgo2o2Mwjgu"
      }
    },
    {
      "cell_type": "code",
      "execution_count": 7,
      "metadata": {
        "colab": {
          "base_uri": "https://localhost:8080/"
        },
        "id": "yvpHtxP1Te69",
        "outputId": "1e9d39f2-fe1e-480d-915f-3d74cc7af7ab"
      },
      "outputs": [
        {
          "output_type": "stream",
          "name": "stdout",
          "text": [
            "observation space: Box(-1.2000000476837158, 0.6000000238418579, (2,), float32)\n",
            "action space: Box(-1.0, 1.0, (1,), float32)\n"
          ]
        }
      ],
      "source": [
        "device = torch.device(\"cuda:0\" if torch.cuda.is_available() else \"cpu\")\n",
        "\n",
        "env = gym.make('MountainCarContinuous-v0')\n",
        "env.seed(101)\n",
        "np.random.seed(101)\n",
        "\n",
        "print('observation space:', env.observation_space)\n",
        "print('action space:', env.action_space)\n",
        "    \n",
        "agent = Agent(env).to(device)"
      ]
    },
    {
      "cell_type": "markdown",
      "metadata": {
        "id": "IWCFdikGTe6_"
      },
      "source": [
        "### 4. Обучение агента"
      ]
    },
    {
      "cell_type": "code",
      "execution_count": 8,
      "metadata": {
        "scrolled": false,
        "colab": {
          "base_uri": "https://localhost:8080/"
        },
        "id": "RVvCDfVJTe6_",
        "outputId": "bdc2c65c-8fb4-42b6-ce36-2d5a132588ea"
      },
      "outputs": [
        {
          "output_type": "stream",
          "name": "stderr",
          "text": [
            "/usr/local/lib/python3.7/dist-packages/torch/nn/functional.py:1795: UserWarning: nn.functional.tanh is deprecated. Use torch.tanh instead.\n",
            "  warnings.warn(\"nn.functional.tanh is deprecated. Use torch.tanh instead.\")\n"
          ]
        },
        {
          "output_type": "stream",
          "name": "stdout",
          "text": [
            "Episode 1\tBest score: -27.47\tMean score: -53.84\n",
            "Episode 2\tBest score: -13.42\tMean score: -63.75\n",
            "Episode 3\tBest score: -0.11\tMean score: -60.10\n",
            "Episode 4\tBest score: -37.69\tMean score: -59.92\n",
            "Episode 5\tBest score: -21.86\tMean score: -56.57\n",
            "Episode 6\tBest score: -16.54\tMean score: -55.81\n",
            "Episode 7\tBest score: -32.40\tMean score: -68.27\n",
            "Episode 8\tBest score: -36.39\tMean score: -59.06\n",
            "Episode 9\tBest score: -0.32\tMean score: -56.61\n",
            "Episode 10\tBest score: -2.73\tMean score: -63.02\n",
            "Episode 11\tBest score: -23.82\tMean score: -54.43\n",
            "Episode 12\tBest score: -6.20\tMean score: -57.94\n",
            "Episode 13\tBest score: -11.80\tMean score: -52.53\n",
            "Episode 14\tBest score: -6.13\tMean score: -58.53\n",
            "Episode 15\tBest score: -9.86\tMean score: -55.22\n",
            "Episode 16\tBest score: -19.59\tMean score: -60.48\n",
            "Episode 17\tBest score: -17.70\tMean score: -61.21\n",
            "Episode 18\tBest score: -19.88\tMean score: -61.07\n",
            "Episode 19\tBest score: -45.80\tMean score: -48.43\n",
            "Episode 20\tBest score: -18.81\tMean score: -59.56\n",
            "Episode 21\tBest score: -37.47\tMean score: -65.92\n",
            "Episode 22\tBest score: -55.34\tMean score: -67.98\n",
            "Episode 23\tBest score: -30.34\tMean score: -50.55\n",
            "Episode 24\tBest score: -46.48\tMean score: -55.44\n",
            "Episode 25\tBest score: -4.08\tMean score: -56.29\n",
            "Episode 26\tBest score: -7.17\tMean score: -61.65\n",
            "Episode 27\tBest score: -0.44\tMean score: -61.50\n",
            "Episode 28\tBest score: -4.53\tMean score: -56.44\n",
            "Episode 29\tBest score: -5.24\tMean score: -59.42\n",
            "Episode 30\tBest score: -4.80\tMean score: -55.57\n",
            "Episode 31\tBest score: -9.95\tMean score: -52.88\n",
            "Episode 32\tBest score: -0.13\tMean score: -56.96\n",
            "Episode 33\tBest score: -0.76\tMean score: -57.37\n",
            "Episode 34\tBest score: -3.47\tMean score: -55.49\n",
            "Episode 35\tBest score: -13.28\tMean score: -54.78\n",
            "Episode 36\tBest score: -6.94\tMean score: -46.42\n",
            "Episode 37\tBest score: -7.47\tMean score: -46.98\n",
            "Episode 38\tBest score: -1.00\tMean score: -43.93\n",
            "Episode 39\tBest score: -13.56\tMean score: -46.20\n",
            "Episode 40\tBest score: -9.46\tMean score: -41.62\n",
            "Episode 41\tBest score: -15.26\tMean score: -40.04\n",
            "Episode 42\tBest score: -1.05\tMean score: -47.10\n",
            "Episode 43\tBest score: -6.16\tMean score: -47.05\n",
            "Episode 44\tBest score: -1.37\tMean score: -43.12\n",
            "Episode 45\tBest score: -2.62\tMean score: -54.65\n",
            "Episode 46\tBest score: -5.52\tMean score: -50.91\n",
            "Episode 47\tBest score: -3.38\tMean score: -37.50\n",
            "Episode 48\tBest score: -5.46\tMean score: -42.65\n",
            "Episode 49\tBest score: -7.24\tMean score: -44.93\n",
            "Episode 50\tBest score: -7.51\tMean score: -43.30\n",
            "Episode 51\tBest score: -2.75\tMean score: -34.61\n",
            "Episode 52\tBest score: -5.87\tMean score: -35.84\n",
            "Episode 53\tBest score: -1.16\tMean score: -36.03\n",
            "Episode 54\tBest score: -0.74\tMean score: -46.12\n",
            "Episode 55\tBest score: -3.71\tMean score: -49.27\n",
            "Episode 56\tBest score: -5.91\tMean score: -41.85\n",
            "Episode 57\tBest score: -9.38\tMean score: -39.40\n",
            "Episode 58\tBest score: -7.20\tMean score: -44.19\n",
            "Episode 59\tBest score: -7.65\tMean score: -45.84\n",
            "Episode 60\tBest score: -6.52\tMean score: -35.62\n",
            "Episode 61\tBest score: -5.88\tMean score: -36.60\n",
            "Episode 62\tBest score: -6.64\tMean score: -46.36\n",
            "Episode 63\tBest score: -0.95\tMean score: -34.72\n",
            "Episode 64\tBest score: -2.19\tMean score: -32.92\n",
            "Episode 65\tBest score: -8.87\tMean score: -39.57\n",
            "Episode 66\tBest score: -6.84\tMean score: -29.42\n",
            "Episode 67\tBest score: -1.34\tMean score: -45.48\n",
            "Episode 68\tBest score: -3.08\tMean score: -37.05\n",
            "Episode 69\tBest score: -1.98\tMean score: -35.04\n",
            "Episode 70\tBest score: -2.72\tMean score: -34.10\n",
            "Episode 71\tBest score: -1.05\tMean score: -34.56\n",
            "Episode 72\tBest score: -3.65\tMean score: -33.19\n",
            "Episode 73\tBest score: -1.57\tMean score: -35.86\n",
            "Episode 74\tBest score: -0.64\tMean score: -39.91\n",
            "Episode 75\tBest score: -2.89\tMean score: -41.20\n",
            "Episode 76\tBest score: -6.78\tMean score: -27.59\n",
            "Episode 77\tBest score: -10.39\tMean score: -39.16\n",
            "Episode 78\tBest score: -9.68\tMean score: -29.94\n",
            "Episode 79\tBest score: -0.96\tMean score: -28.54\n",
            "Episode 80\tBest score: -11.16\tMean score: -31.14\n",
            "Episode 81\tBest score: -0.24\tMean score: -36.64\n",
            "Episode 82\tBest score: -0.32\tMean score: -38.10\n",
            "Episode 83\tBest score: -1.72\tMean score: -34.97\n",
            "Episode 84\tBest score: -2.17\tMean score: -35.82\n",
            "Episode 85\tBest score: -2.03\tMean score: -35.55\n",
            "Episode 86\tBest score: -0.58\tMean score: -46.46\n",
            "Episode 87\tBest score: -3.09\tMean score: -39.24\n",
            "Episode 88\tBest score: -1.46\tMean score: -41.51\n",
            "Episode 89\tBest score: -4.05\tMean score: -32.50\n",
            "Episode 90\tBest score: -4.16\tMean score: -37.94\n",
            "Episode 91\tBest score: -4.39\tMean score: -45.34\n",
            "Episode 92\tBest score: -3.14\tMean score: -41.78\n",
            "Episode 93\tBest score: -0.63\tMean score: -37.82\n",
            "Episode 94\tBest score: -0.78\tMean score: -39.53\n",
            "Episode 95\tBest score: -4.70\tMean score: -37.17\n",
            "Episode 96\tBest score: -0.14\tMean score: -39.85\n",
            "Episode 97\tBest score: -2.90\tMean score: -43.50\n",
            "Episode 98\tBest score: -1.34\tMean score: -38.76\n",
            "Episode 99\tBest score: -2.06\tMean score: -34.09\n",
            "Episode 100\tBest score: -1.86\tMean score: -39.61\n"
          ]
        }
      ],
      "source": [
        "def cem(n_iterations=100, max_t=1000, gamma=1.0, print_every=1, pop_size=50, elite_frac=0.2, sigma=0.5):\n",
        "    \n",
        "    # the number of elite examples is fraction of the population size\n",
        "    n_elite=int(pop_size*elite_frac)\n",
        "    # scores is initialized as an empty list\n",
        "    scores = []\n",
        "    best_scores = []\n",
        "    # best_weight is initialized as a random array multiplied by sigma\n",
        "    # the array dimensions are those of the agent NN weights array \n",
        "    best_weight = sigma*np.random.randn(agent.get_weights_dim())\n",
        "\n",
        "    for i_iteration in range(1, n_iterations+1):\n",
        "        # weights_pop is a collection of arrays \n",
        "        # an element of this collection is obtained adding a random array to best_weight array for each i \n",
        "        weights_pop = [best_weight + (sigma*np.random.randn(agent.get_weights_dim())) for i in range(pop_size)]\n",
        "        # Episodes returns when agent uses weights from weights_pop\n",
        "        rewards = np.array([agent.evaluate(weights, gamma, max_t) for weights in weights_pop])\n",
        "\n",
        "        # elite rewards indices\n",
        "        elite_idxs = rewards.argsort()[-n_elite:]\n",
        "        # pick elite weights arrays using elite indices\n",
        "        elite_weights = [weights_pop[i] for i in elite_idxs]\n",
        "        # best_weight is the mean (evaluated by columns) of elite weights\n",
        "        best_weight = np.array(elite_weights).mean(axis=0)\n",
        "\n",
        "        # reward after updating best_weight\n",
        "        best_reward = agent.evaluate(best_weight, gamma=1.0)\n",
        "        mean_reward = np.mean(rewards)\n",
        "        # append reward to scores\n",
        "        scores.append(mean_reward)\n",
        "        best_scores.append(best_reward)\n",
        "        \n",
        "        torch.save(agent.state_dict(), 'checkpoint.pth')\n",
        "        \n",
        "        if i_iteration % print_every == 0:\n",
        "            print('Episode {}\\tBest score: {:.2f}\\tMean score: {:.2f}'.format(i_iteration, best_reward, mean_reward))\n",
        "    return scores, best_scores\n",
        "\n",
        "scores, best_scores = cem()"
      ]
    },
    {
      "cell_type": "markdown",
      "source": [
        "### 5. Вывод графиков"
      ],
      "metadata": {
        "id": "E7T8AYs_0nC7"
      }
    },
    {
      "cell_type": "code",
      "source": [
        "# plot the scores\n",
        "fig = plt.figure()\n",
        "ax = fig.add_subplot(111)\n",
        "# plt.plot(np.arange(1, len(scores)+1), scores)\n",
        "plt.plot(np.arange(1, len(scores)+1), best_scores)\n",
        "plt.ylabel('Best Score')\n",
        "plt.xlabel('Episode #')\n",
        "plt.show()"
      ],
      "metadata": {
        "colab": {
          "base_uri": "https://localhost:8080/",
          "height": 279
        },
        "id": "OB-hzYc0dZ2B",
        "outputId": "440f7264-eb63-4216-d2d8-84f8264b7e6f"
      },
      "execution_count": 9,
      "outputs": [
        {
          "output_type": "display_data",
          "data": {
            "image/png": "[encoded data removed]",
            "text/plain": [
              "<Figure size 432x288 with 1 Axes>"
            ]
          },
          "metadata": {
            "needs_background": "light"
          }
        }
      ]
    }
  ],
  "metadata": {
    "anaconda-cloud": {},
    "kernelspec": {
      "display_name": "Python 3",
      "language": "python",
      "name": "python3"
    },
    "language_info": {
      "codemirror_mode": {
        "name": "ipython",
        "version": 3
      },
      "file_extension": ".py",
      "mimetype": "text/x-python",
      "name": "python",
      "nbconvert_exporter": "python",
      "pygments_lexer": "ipython3",
      "version": "3.6.8"
    },
    "colab": {
      "name": "CEM.ipynb",
      "provenance": []
    },
    "accelerator": "GPU"
  },
  "nbformat": 4,
  "nbformat_minor": 0
}