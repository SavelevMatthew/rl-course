{
  "cells": [
    {
      "cell_type": "markdown",
      "metadata": {
        "id": "fbIFYixTH6Ec"
      },
      "source": [
        "### $\\varepsilon$-Greedy Policy:\n",
        "$$\n",
        "\\begin{array}{l}\n",
        "\\pi(a|s) =\n",
        "\\left\\{\n",
        "\\begin{array}{ll}\n",
        "1 - \\varepsilon + \\varepsilon / m,& \\text{ если } a \\in \\mathrm{argmax}_{a' \\in \\mathcal{A}}\\, Q(s,a'),\\\\\n",
        "\\varepsilon / m,& \\text{ иначе }\n",
        "\\end{array}\n",
        "\\right.\n",
        "\\end{array}\n",
        "$$"
      ]
    },
    {
      "cell_type": "code",
      "execution_count": 1,
      "metadata": {
        "ExecuteTime": {
          "end_time": "2020-11-12T11:19:37.246247Z",
          "start_time": "2020-11-12T11:19:37.229583Z"
        },
        "id": "am3Yi_vPH6Ed"
      },
      "outputs": [],
      "source": [
        "import numpy as np\n",
        "\n",
        "\n",
        "def get_epsilon_greedy_action(q_values, epsilon, action_n):\n",
        "    prob = np.ones(action_n) * epsilon / action_n\n",
        "    argmax_action = np.argmax(q_values)\n",
        "    prob[argmax_action] += 1 - epsilon\n",
        "    action = np.random.choice(np.arange(action_n), p=prob)\n",
        "    return action"
      ]
    },
    {
      "cell_type": "code",
      "source": [
        "import gym\n",
        "import matplotlib.pyplot as plt\n",
        "\n",
        "env = gym.make(\"MountainCar-v0\").env"
      ],
      "metadata": {
        "id": "zV2fnal2IOPB"
      },
      "execution_count": 2,
      "outputs": []
    },
    {
      "cell_type": "code",
      "source": [
        "# 2-мерный вектор\n",
        "env.reset()\n",
        "# 0: позиция от -1.2 до 0.6\n",
        "# 1: скорость от -0.07 до 0.07"
      ],
      "metadata": {
        "colab": {
          "base_uri": "https://localhost:8080/"
        },
        "id": "JscqLTrqIpjR",
        "outputId": "09048ec8-8fef-44e9-fdad-d5466d222536"
      },
      "execution_count": 3,
      "outputs": [
        {
          "output_type": "execute_result",
          "data": {
            "text/plain": [
              "array([-0.54896815,  0.        ])"
            ]
          },
          "metadata": {},
          "execution_count": 3
        }
      ]
    },
    {
      "cell_type": "code",
      "source": [
        "from math import floor\n",
        "\n",
        "# Делим пространство на регионы и создаем функцию преобразования состояния\n",
        "pos_sections = 18\n",
        "vel_sections = 14\n",
        "state_n = pos_sections * vel_sections\n",
        "\n",
        "pos_section_length = 1.8 / pos_sections\n",
        "vel_section_length = 0.14 / vel_sections\n",
        "\n",
        "def get_discrete_state(state):\n",
        "  pos_section = min(floor((state[0] + 1.2) / pos_section_length), pos_sections - 1)\n",
        "  vel_section = min(floor((state[1] + 0.07) / vel_section_length), vel_sections - 1)\n",
        "  return pos_section * vel_sections + vel_section"
      ],
      "metadata": {
        "id": "MjjgEtV8KnpM"
      },
      "execution_count": 4,
      "outputs": []
    },
    {
      "cell_type": "markdown",
      "metadata": {
        "id": "ItF1a6XRH6Ef"
      },
      "source": [
        "### Monte-Carlo Algorithm\n",
        "\n",
        "Пусть $Q(s,a) = 0$, $N(s,a) = 0$ и $\\varepsilon = 1$.\n",
        "\n",
        "Для каждого эпизода $k \\in \\overline{1,K}$ делаем:\n",
        "\n",
        "1. Согласно $\\pi = \\varepsilon\\text{-greedy}(Q)$ получаем траекторию $\\tau = (S_0,A_0,\\ldots,S_T)$ и награды $(R_0,\\ldots,R_{T-1})$. По ним определяем $(G_0,\\ldots,G_{T-1}):$\n",
        "$$\n",
        "G_t = \\sum\\limits_{k=t}^{T-1} \\gamma^{k-t} R_t\n",
        "$$\n",
        "\n",
        "2. Для каждого $t \\in \\overline{0,T-1}$ обновляем $Q$ и $N$:\n",
        "\n",
        "$$\n",
        "Q(S_t,A_t) \\leftarrow Q(S_t,A_t) + \\frac{1}{N(S_t,A_t) + 1}\\big(G_t - Q(S_t,A_t)\\big),\n",
        "$$\n",
        "\n",
        "$$\n",
        "N(S_t,A_t) \\leftarrow N(S_t,A_t) + 1\n",
        "$$\n",
        "Уменьшаем $\\varepsilon$\n"
      ]
    },
    {
      "cell_type": "code",
      "execution_count": 5,
      "metadata": {
        "ExecuteTime": {
          "end_time": "2020-11-12T12:16:33.347329Z",
          "start_time": "2020-11-12T12:16:33.314057Z"
        },
        "id": "BCJGKrvoH6Ef"
      },
      "outputs": [],
      "source": [
        "def MonteCarlo(env, episode_n, t_max=500, gamma=0.99):\n",
        "    # state_n = env.observation_space.n\n",
        "    action_n = env.action_space.n\n",
        "    \n",
        "    Q = np.zeros((state_n, action_n))\n",
        "    N = np.zeros((state_n, action_n))\n",
        "    epsilon = 1\n",
        "    \n",
        "    total_rewards = []\n",
        "    \n",
        "    for episode in range(episode_n):\n",
        "        if episode % 50 == 0:\n",
        "          print(f'Episode: {episode}')\n",
        "        states, actions, rewards = [], [], []\n",
        "        \n",
        "        state = get_discrete_state(env.reset())\n",
        "        for t in range(t_max):\n",
        "            states.append(state)\n",
        "            \n",
        "            action = get_epsilon_greedy_action(Q[state], epsilon, action_n)\n",
        "            actions.append(action)\n",
        "            \n",
        "            new_state, reward, done, _ = env.step(action)\n",
        "            state = get_discrete_state(new_state)\n",
        "            rewards.append(reward)\n",
        "            \n",
        "            if done:\n",
        "                break\n",
        "                \n",
        "        total_rewards.append(sum(rewards))\n",
        "        \n",
        "        #G = [rewards[-1]]\n",
        "        #for t in range(len(rewards) - 2, -1, -1):\n",
        "        #    G.append(rewards[t] + gamma * G[-1])\n",
        "        # len(rewards) = 10        \n",
        "        # G = [rewards[9]]\n",
        "        # G = [rewards[9], rewards[8] + gamma * G[0]]\n",
        "        # G = [rewards[9], rewards[8] + gamma * G[0], rewards[7] + gamma * G[1]]\n",
        "        #G.reverse()\n",
        "        \n",
        "        G = np.zeros(t_max + 1)\n",
        "        for t in range(len(rewards) - 1, -1, -1):\n",
        "            G[t] = rewards[t] + gamma * G[t + 1]\n",
        "            \n",
        "        # len(rewards) = 10\n",
        "        # t = 9 G[9] = reward[9] + gamma * G[10] = reward[9]\n",
        "        # t = 8 G[8] = reward[8] + gamma * G[9]\n",
        "        \n",
        "        for t in range(len(rewards)):\n",
        "            Q[states[t]][actions[t]] += (G[t] - Q[states[t]][actions[t]]) / (1 + N[states[t]][actions[t]])\n",
        "            N[states[t]][actions[t]] += 1\n",
        "        \n",
        "        epsilon -= 1 / episode_n\n",
        "        \n",
        "    return total_rewards"
      ]
    },
    {
      "cell_type": "code",
      "execution_count": 6,
      "metadata": {
        "ExecuteTime": {
          "end_time": "2020-11-12T12:17:47.229064Z",
          "start_time": "2020-11-12T12:17:32.861923Z"
        },
        "colab": {
          "base_uri": "https://localhost:8080/",
          "height": 435
        },
        "id": "OZlg0xXLH6Eg",
        "outputId": "f03348d9-45ae-48c2-8ba1-980421512538"
      },
      "outputs": [
        {
          "output_type": "stream",
          "name": "stdout",
          "text": [
            "Episode: 0\n",
            "Episode: 50\n",
            "Episode: 100\n",
            "Episode: 150\n",
            "Episode: 200\n",
            "Episode: 250\n",
            "Episode: 300\n",
            "Episode: 350\n",
            "Episode: 400\n",
            "Episode: 450\n"
          ]
        },
        {
          "output_type": "display_data",
          "data": {
            "image/png": "[encoded data removed]",
            "text/plain": [
              "<Figure size 432x288 with 1 Axes>"
            ]
          },
          "metadata": {
            "needs_background": "light"
          }
        }
      ],
      "source": [
        "total_rewards = MonteCarlo(env, episode_n=500, t_max=7000, gamma=0.99)\n",
        "\n",
        "plt.plot(total_rewards)\n",
        "plt.show()"
      ]
    },
    {
      "cell_type": "markdown",
      "metadata": {
        "id": "py-Ai7q4H6Eh"
      },
      "source": [
        "### SARSA Algorithm \n",
        "Пусть $Q(s,a) = 0$ и $\\varepsilon = 1$.\n",
        "\n",
        "Для каждого эпизода $k$ делаем:\n",
        "\n",
        "Пока эпизод не закончен делаем:\n",
        "\n",
        "1. Находясь в состоянии $S_t$ совершаем действие $A_t \\sim \\pi(\\cdot|S_t)$, \n",
        "где $\\pi = \\varepsilon\\text{-greedy}(Q)$, получаем награду $R_t$, переходим в состояние $S_{t+1}$, совершаем действие $A_{t+1} \\sim \\pi(\\cdot|S_{t+1})$\n",
        "\n",
        "2. По $(S_t,A_t,R_t,S_{t+1},A_{t+1})$ обновляем $Q$:\n",
        "$$\n",
        "Q(S_t,A_t) \\leftarrow Q(S_t,A_t) + \\alpha(R_t + \\gamma Q(S_{t+1},A_{t+1}) - Q(S_t,A_t))\n",
        "$$\n",
        "\n",
        "Уменьшаем $\\varepsilon$\n"
      ]
    },
    {
      "cell_type": "code",
      "execution_count": 7,
      "metadata": {
        "ExecuteTime": {
          "end_time": "2020-11-12T12:05:02.351989Z",
          "start_time": "2020-11-12T12:05:02.331371Z"
        },
        "id": "4BOkxuO_H6Ei"
      },
      "outputs": [],
      "source": [
        "def SARSA(env, episode_n, noisy_episode_n, gamma=0.99, t_max=500, alpha=0.5):\n",
        "    # state_n = env.observation_space.n\n",
        "    action_n = env.action_space.n\n",
        "    \n",
        "    Q = np.zeros((state_n, action_n))\n",
        "    epsilon = 1\n",
        "    \n",
        "    total_rewards = []\n",
        "    for episode in range(episode_n):\n",
        "        if episode % 50 == 0:\n",
        "            print(f'Episode: {episode}')\n",
        "        \n",
        "        total_reward = 0\n",
        "        \n",
        "        state = get_discrete_state(env.reset())\n",
        "        action = get_epsilon_greedy_action(Q[state], epsilon, action_n)\n",
        "        \n",
        "        for t in range(t_max):\n",
        "            next_state, reward, done, _ = env.step(action)\n",
        "            next_state = get_discrete_state(next_state)\n",
        "            next_action = get_epsilon_greedy_action(Q[next_state], epsilon, action_n)\n",
        "            \n",
        "            Q[state][action] += alpha * (reward + gamma * Q[next_state][next_action] - Q[state][action])\n",
        "            \n",
        "            total_reward += reward\n",
        "            \n",
        "            if done:\n",
        "                break\n",
        "                \n",
        "            state = next_state\n",
        "            action = next_action\n",
        "            \n",
        "        epsilon = max(0, epsilon - 1 / noisy_episode_n)\n",
        "        \n",
        "        total_rewards.append(total_reward)\n",
        "        \n",
        "    return total_rewards"
      ]
    },
    {
      "cell_type": "code",
      "execution_count": 9,
      "metadata": {
        "ExecuteTime": {
          "end_time": "2020-11-12T12:06:50.096459Z",
          "start_time": "2020-11-12T12:06:42.222863Z"
        },
        "colab": {
          "base_uri": "https://localhost:8080/",
          "height": 506
        },
        "id": "jvTZ29ERH6Ei",
        "outputId": "5acef952-8570-489f-f458-1952d9fc077f"
      },
      "outputs": [
        {
          "output_type": "stream",
          "name": "stdout",
          "text": [
            "Episode: 0\n",
            "Episode: 50\n",
            "Episode: 100\n",
            "Episode: 150\n",
            "Episode: 200\n",
            "Episode: 250\n",
            "Episode: 300\n",
            "Episode: 350\n",
            "Episode: 400\n",
            "Episode: 450\n",
            "Episode: 500\n",
            "Episode: 550\n",
            "Episode: 600\n",
            "Episode: 650\n"
          ]
        },
        {
          "output_type": "display_data",
          "data": {
            "image/png": "[encoded data removed]",
            "text/plain": [
              "<Figure size 432x288 with 1 Axes>"
            ]
          },
          "metadata": {
            "needs_background": "light"
          }
        }
      ],
      "source": [
        "total_rewards = SARSA(env, episode_n=700, noisy_episode_n=600, t_max=3000, gamma=0.999, alpha=0.5)\n",
        "\n",
        "plt.plot(total_rewards)\n",
        "plt.show()"
      ]
    },
    {
      "cell_type": "markdown",
      "metadata": {
        "id": "CpQPUPfXH6Ej"
      },
      "source": [
        "### Q-Learning Algorithm\n",
        "\n",
        "Пусть $Q(s,a) = 0$ и $\\varepsilon = 1$.\n",
        "\n",
        "Для каждого эпизода $k$ делаем:\n",
        "\n",
        "Пока эпизод не закончен делаем:\n",
        "\n",
        "1. Находясь в состоянии $S_t$ совершаем действие $A_t \\sim \\pi(\\cdot|S_t)$, \n",
        "где $\\pi = \\varepsilon\\text{-greedy}(Q)$, получаем награду $R_t$  переходим в состояние $S_{t+1}$.\n",
        "\n",
        "2. По $(S_t,A_t,R_t,S_{t+1})$ обновляем $Q$:\n",
        "$$\n",
        "Q(S_t,A_t) \\leftarrow Q(S_t,A_t) + \\alpha(R_t + \\gamma \\max\\limits_{a'} Q(S_{t+1},a') - Q(S_t,A_t))\n",
        "$$\n",
        "\n",
        "Уменьшаем $\\varepsilon$"
      ]
    },
    {
      "cell_type": "code",
      "execution_count": 10,
      "metadata": {
        "ExecuteTime": {
          "end_time": "2020-11-12T12:09:41.196865Z",
          "start_time": "2020-11-12T12:09:41.185519Z"
        },
        "id": "abc9_S4WH6Ej"
      },
      "outputs": [],
      "source": [
        "def QLearning(env, episode_n, noisy_episode_n, gamma=0.99, t_max=500, alpha=0.5):\n",
        "    # state_n = env.observation_space.n\n",
        "    action_n = env.action_space.n\n",
        "    \n",
        "    Q = np.zeros((state_n, action_n))\n",
        "    epsilon = 1\n",
        "    \n",
        "    total_rewards = []\n",
        "    for episode in range(episode_n):\n",
        "        if episode % 50 == 0:\n",
        "            print(f'Episode: {episode}')\n",
        "        \n",
        "        total_reward = 0\n",
        "        state = get_discrete_state(env.reset())\n",
        "\n",
        "        for t in range(t_max):\n",
        "            action = get_epsilon_greedy_action(Q[state], epsilon, action_n)\n",
        "            next_state, reward, done, _ = env.step(action)\n",
        "            next_state = get_discrete_state(next_state)\n",
        "            \n",
        "            Q[state][action] += alpha * (reward + gamma * np.max(Q[next_state]) - Q[state][action])\n",
        "            \n",
        "            total_reward += reward\n",
        "            \n",
        "            if done:\n",
        "                break\n",
        "                \n",
        "            state = next_state\n",
        "            \n",
        "        epsilon = max(0, epsilon - 1 / noisy_episode_n)\n",
        "        \n",
        "        total_rewards.append(total_reward)\n",
        "        \n",
        "    return total_rewards"
      ]
    },
    {
      "cell_type": "code",
      "execution_count": 13,
      "metadata": {
        "ExecuteTime": {
          "end_time": "2020-11-12T12:10:00.588790Z",
          "start_time": "2020-11-12T12:09:52.816239Z"
        },
        "colab": {
          "base_uri": "https://localhost:8080/",
          "height": 503
        },
        "id": "uAjtr5n8H6Ek",
        "outputId": "58271b72-d495-489a-dbd6-7bf26daa4aae"
      },
      "outputs": [
        {
          "output_type": "stream",
          "name": "stdout",
          "text": [
            "Episode: 0\n",
            "Episode: 50\n",
            "Episode: 100\n",
            "Episode: 150\n",
            "Episode: 200\n",
            "Episode: 250\n",
            "Episode: 300\n",
            "Episode: 350\n",
            "Episode: 400\n",
            "Episode: 450\n",
            "Episode: 500\n",
            "Episode: 550\n",
            "Episode: 600\n",
            "Episode: 650\n"
          ]
        },
        {
          "output_type": "display_data",
          "data": {
            "image/png": "[encoded data removed]",
            "text/plain": [
              "<Figure size 432x288 with 1 Axes>"
            ]
          },
          "metadata": {
            "needs_background": "light"
          }
        }
      ],
      "source": [
        "total_rewards = QLearning(env, episode_n=700, noisy_episode_n=600, t_max=2500, gamma=0.999, alpha=0.5)\n",
        "\n",
        "plt.plot(total_rewards)\n",
        "plt.show()"
      ]
    },
    {
      "cell_type": "code",
      "execution_count": null,
      "metadata": {
        "id": "3Y8Td1UmH6Ek"
      },
      "outputs": [],
      "source": [
        ""
      ]
    }
  ],
  "metadata": {
    "hide_input": false,
    "kernelspec": {
      "display_name": "Python 3",
      "language": "python",
      "name": "python3"
    },
    "toc": {
      "base_numbering": 1,
      "nav_menu": {},
      "number_sections": true,
      "sideBar": true,
      "skip_h1_title": false,
      "title_cell": "Table of Contents",
      "title_sidebar": "Contents",
      "toc_cell": false,
      "toc_position": {},
      "toc_section_display": true,
      "toc_window_display": false
    },
    "varInspector": {
      "cols": {
        "lenName": 16,
        "lenType": 16,
        "lenVar": 40
      },
      "kernels_config": {
        "python": {
          "delete_cmd_postfix": "",
          "delete_cmd_prefix": "del ",
          "library": "var_list.py",
          "varRefreshCmd": "print(var_dic_list())"
        },
        "r": {
          "delete_cmd_postfix": ") ",
          "delete_cmd_prefix": "rm(",
          "library": "var_list.r",
          "varRefreshCmd": "cat(var_dic_list()) "
        }
      },
      "types_to_exclude": [
        "module",
        "function",
        "builtin_function_or_method",
        "instance",
        "_Feature"
      ],
      "window_display": false
    },
    "colab": {
      "name": "PR3.ipynb",
      "provenance": [],
      "collapsed_sections": []
    }
  },
  "nbformat": 4,
  "nbformat_minor": 0
}